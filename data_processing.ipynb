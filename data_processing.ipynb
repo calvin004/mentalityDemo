import pandas as pd
from textblob import TextBlob
import numpy as np

df = pd.read_csv('mental_health_data.csv')

# 数据清洗
df = df.drop_duplicates(subset=['title', 'author'])
df['post_date'] = pd.to_datetime(df['post_date'], errors='coerce')
df = df[df['post_date'].notna()]

# 情感分析特征
def get_sentiment(text):
    analysis = TextBlob(str(text))
    return analysis.sentiment.polarity

df['sentiment'] = df['content'].apply(get_sentiment)
df['sentiment_label'] = pd.cut(df['sentiment'],
                               bins=[-1, -0.1, 0.1, 1],
                               labels=['negative', 'neutral', 'positive'])

# 时间特征工程
df['post_hour'] = df['post_date'].dt.hour
df['time_period'] = pd.cut(df['post_hour'],
                          bins=[0, 6, 12, 18, 24],
                          labels=['Night', 'Morning', 'Afternoon', 'Evening'])

# 交互特征
df['engagement'] = df['upvotes'] * 0.6 + df['comment_count'] * 0.4

# 保存处理后的数据
df.to_csv('processed_mental_health.csv', index=False)
